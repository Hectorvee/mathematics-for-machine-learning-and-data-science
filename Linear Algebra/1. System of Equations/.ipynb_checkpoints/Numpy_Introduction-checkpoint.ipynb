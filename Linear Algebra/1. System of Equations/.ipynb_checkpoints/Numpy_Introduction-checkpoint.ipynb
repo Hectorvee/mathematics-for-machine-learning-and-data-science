{
 "cells": [
  {
   "cell_type": "markdown",
   "id": "8729f0d1",
   "metadata": {},
   "source": [
    "# **Introduction to Numpy Arrays**\n",
    "This notebook demonstrates basic operations on Numpy arrays, including array creation, slicing, accessing elements, data types, dimensions, shapes, and summary statistics. Each section is explained with examples."
   ]
  },
  {
   "cell_type": "code",
   "execution_count": null,
   "id": "3e67720e",
   "metadata": {},
   "outputs": [],
   "source": [
    "import numpy as np"
   ]
  },
  {
   "cell_type": "markdown",
   "id": "9e1ca02b",
   "metadata": {},
   "source": [
    "## **Basic Numpy Arrays**\n",
    "Numpy arrays are the core data structure of the library. Let's create and manipulate a one-dimensional array."
   ]
  },
  {
   "cell_type": "code",
   "execution_count": null,
   "id": "2f86c013",
   "metadata": {},
   "outputs": [],
   "source": [
    "# Creating a basic Numpy array\n",
    "a = np.array([1, 2, 3, 4, 5, 6])\n",
    "\n",
    "# Printing the array\n",
    "print(\"Array a:\", a)\n",
    "\n",
    "# Printing the shape of the array\n",
    "print(\"Shape of array a:\", a.shape)\n",
    "\n",
    "# Accessing individual elements\n",
    "print(\"First three elements of array a:\", a[0], a[1], a[2])\n",
    "\n",
    "# Modifying an element in the array\n",
    "a[0] = 5\n",
    "print(\"Array a after changing first element to 5:\", a)\n",
    "\n",
    "# Slicing the array\n",
    "print(\"Array a from index 0 to end:\", a[0:])\n",
    "print(\"Array a from index 1 to 3:\", a[1:3])\n",
    "print(\"Array a from index 1 to second last:\", a[1:-1])\n",
    "\n",
    "# Slicing with a step\n",
    "print(\"Array a with step 2:\", a[::2])\n",
    "\n",
    "# Indexing with specific positions\n",
    "print(\"Array a with specific indexes 0, 2, 4:\", a[[0, 2, 4]])"
   ]
  },
  {
   "cell_type": "markdown",
   "id": "a3bf8a58",
   "metadata": {},
   "source": [
    "## **Array Types**\n",
    "Numpy arrays can hold data of a specific type. You can create arrays of integers, floats, or even specify a custom type."
   ]
  },
  {
   "cell_type": "code",
   "execution_count": null,
   "id": "6f24e8b6",
   "metadata": {},
   "outputs": [],
   "source": [
    "# Creating arrays with different types\n",
    "b = np.array([1, 2, 3, 4, 5, 6])  # Integer array\n",
    "c = np.array([1, 2.3, 3.4, 4.1, 5, 6])  # Float array\n",
    "\n",
    "# Printing data types\n",
    "print(\"Data type of array b:\", b.dtype)\n",
    "print(\"Data type of array c:\", c.dtype)\n",
    "\n",
    "# Creating an array with a specific data type\n",
    "float_array = np.array([1, 2, 3, 4, 5, 6], dtype='float32')\n",
    "print(\"Array with specified data type (float32):\", float_array)"
   ]
  },
  {
   "cell_type": "markdown",
   "id": "b8405d43",
   "metadata": {},
   "source": [
    "## **Dimensions and Shapes**\n",
    "Arrays can have multiple dimensions. The shape property gives the size of each dimension. Let's explore a 2D array."
   ]
  },
  {
   "cell_type": "code",
   "execution_count": null,
   "id": "b3dff410",
   "metadata": {},
   "outputs": [],
   "source": [
    "# Creating a 2D array\n",
    "d = np.array([\n",
    "    [1, 2, 3],\n",
    "    [4, 5, 6],\n",
    "    [7, 8, 9]\n",
    "])\n",
    "\n",
    "# Printing the array and its shape\n",
    "print(\"Array d:\", d)\n",
    "print(\"Shape of array d:\", d.shape)\n",
    "\n",
    "# Accessing elements\n",
    "print(\"Diagonal elements of array d:\", d[0, 0], d[1, 1], d[2, 2])\n",
    "\n",
    "# Modifying elements\n",
    "d[0, 0] = 5\n",
    "print(\"Array d after changing first element to 5:\", d)\n",
    "\n",
    "# Slicing and selecting rows/columns\n",
    "print(\"Array d from index 0 to end:\", d[0:])\n",
    "print(\"Array d from index 1 to 3:\", d[1:3])\n",
    "print(\"Array d with step 2:\", d[::2])\n",
    "\n",
    "# Modifying a row\n",
    "d[1] = np.array([10, 11, 12])\n",
    "print(\"Array d after changing second row:\", d)\n",
    "\n",
    "# Modifying a column\n",
    "d[:, 2] = np.array([30, 31, 32])\n",
    "print(\"Array d after changing third column:\", d)"
   ]
  },
  {
   "cell_type": "markdown",
   "id": "43a2e9cd",
   "metadata": {},
   "source": [
    "## **Summary Statistics**\n",
    "Numpy provides a variety of methods to compute statistics like sum, mean, standard deviation, etc."
   ]
  },
  {
   "cell_type": "code",
   "execution_count": null,
   "id": "38ea6b6d",
   "metadata": {},
   "outputs": [],
   "source": [
    "# Creating a 1D array\n",
    "e = np.array([1, 2, 3, 4, 5, 6])\n",
    "\n",
    "# Computing statistics\n",
    "print(\"Array e:\", e)\n",
    "print(\"Sum of array e:\", e.sum())\n",
    "print(\"Mean of array e:\", e.mean())\n",
    "print(\"Standard deviation of array e:\", e.std())\n",
    "print(\"Minimum value of array e:\", e.min())\n",
    "print(\"Maximum value of array e:\", e.max())\n",
    "print(\"Index of minimum value of array e:\", e.argmin())\n",
    "print(\"Index of maximum value of array e:\", e.argmax())"
   ]
  },
  {
   "cell_type": "markdown",
   "id": "9597a93d",
   "metadata": {},
   "source": [
    "### **Summary Statistics for 2D Arrays**\n",
    "For 2D arrays, you can calculate statistics along specific axes."
   ]
  },
  {
   "cell_type": "code",
   "execution_count": null,
   "id": "15e0a4b4",
   "metadata": {},
   "outputs": [],
   "source": [
    "# Creating a 2D array\n",
    "f = np.array([\n",
    "    [1, 2, 3],\n",
    "    [4, 5, 6],\n",
    "    [7, 8, 9]\n",
    "])\n",
    "\n",
    "# Computing statistics for the entire array\n",
    "print(\"Array f:\", f)\n",
    "print(\"Sum of array f:\", f.sum())\n",
    "print(\"Mean of array f:\", f.mean())\n",
    "print(\"Standard deviation of array f:\", f.std())\n",
    "\n",
    "# Computing statistics along axes\n",
    "print(\"Sum of array f along axis 0 (columns):\", f.sum(axis=0))\n",
    "print(\"Sum of array f along axis 1 (rows):\", f.sum(axis=1))\n",
    "print(\"Mean of array f along axis 0:\", f.mean(axis=0))\n",
    "print(\"Mean of array f along axis 1:\", f.mean(axis=1))\n",
    "print(\"Standard deviation along axis 0:\", f.std(axis=0))\n",
    "print(\"Standard deviation along axis 1:\", f.std(axis=1))"
   ]
  },
  {
   "cell_type": "markdown",
   "id": "eb3df945",
   "metadata": {},
   "source": [
    "# **Conclusion**\n",
    "This notebook covered the basics of Numpy arrays, including creation, manipulation, and statistical methods. These are essential tools for data analysis and scientific computing."
   ]
  }
 ],
 "metadata": {},
 "nbformat": 4,
 "nbformat_minor": 5
}