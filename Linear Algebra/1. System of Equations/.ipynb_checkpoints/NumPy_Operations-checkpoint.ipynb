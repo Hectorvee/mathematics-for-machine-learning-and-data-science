{
 "cells": [
  {
   "cell_type": "markdown",
   "id": "f50d5c6c-caa5-4cda-90c7-34e7b16f3b3e",
   "metadata": {},
   "source": [
    "# Introduction to NumPy Operations\n",
    "\n",
    "This notebook demonstrates various operations using the NumPy library. These include broadcasting, vectorized operations, list comprehensions, 2D array operations, boolean arrays, linear algebra operations, memory size analysis, performance comparison, and useful NumPy functions."
   ]
  },
  {
   "cell_type": "markdown",
   "id": "3dc5b4a0",
   "metadata": {},
   "source": [
    "## Broadcasting and Vectorized Operations\n",
    "Broadcasting allows NumPy to perform operations on arrays of different shapes, without requiring explicit looping. This leads to more concise and faster code."
   ]
  },
  {
   "cell_type": "code",
   "execution_count": 3,
   "id": "30142ddc",
   "metadata": {},
   "outputs": [
    {
     "name": "stdout",
     "output_type": "stream",
     "text": [
      "Array f: [1 2 3 4 5 6]\n",
      "Array f + 1: [2 3 4 5 6 7]\n",
      "Array f - 1: [0 1 2 3 4 5]\n",
      "Array f * 2: [ 2  4  6  8 10 12]\n",
      "Array f / 2: [0.5 1.  1.5 2.  2.5 3. ]\n",
      "Array f ** 2: [ 1  4  9 16 25 36]\n",
      "Array f % 2: [1 0 1 0 1 0]\n",
      "Array f // 2: [0 1 1 2 2 3]\n",
      "Array f + f: [ 2  4  6  8 10 12]\n",
      "Array f - f: [0 0 0 0 0 0]\n",
      "Array f * f: [ 1  4  9 16 25 36]\n",
      "Array f / f: [1. 1. 1. 1. 1. 1.]\n",
      "Array f ** f: [    1     4    27   256  3125 46656]\n",
      "Array f % f: [0 0 0 0 0 0]\n",
      "Array f // f: [1 1 1 1 1 1]\n"
     ]
    }
   ],
   "source": [
    "import numpy as np\n",
    "\n",
    "# Broadcasting and Vectorized Operations\n",
    "f = np.array([1, 2, 3, 4, 5, 6])\n",
    "print(\"Array f:\", f)    # Print the array\n",
    "print(\"Array f + 1:\", f + 1)    # Add 1 to each element of the array\n",
    "print(\"Array f - 1:\", f - 1)    # Subtract 1 from each element of the array\n",
    "print(\"Array f * 2:\", f * 2)    # Multiply each element of the array by 2\n",
    "print(\"Array f / 2:\", f / 2)    # Divide each element of the array by 2\n",
    "print(\"Array f ** 2:\", f ** 2)    # Square each element of the array\n",
    "print(\"Array f % 2:\", f % 2)    # Modulus 2 of each element of the array\n",
    "print(\"Array f // 2:\", f // 2)    # Floor division by 2 of each element of the array\n",
    "print(\"Array f + f:\", f + f)    # Add each element of the array with corresponding element of the array\n",
    "print(\"Array f - f:\", f - f)    # Subtract each element of the array from corresponding element of the array\n",
    "print(\"Array f * f:\", f * f)    # Multiply each element of the array with corresponding element of the array\n",
    "print(\"Array f / f:\", f / f)    # Divide each element of the array by corresponding element of the array\n",
    "print(\"Array f ** f:\", f ** f)    # Power each element of the array by corresponding element of the array\n",
    "print(\"Array f % f:\", f % f)    # Modulus each element of the array by corresponding element of the array\n",
    "print(\"Array f // f:\", f // f)    # Floor division by each element of the array by corresponding element of the array\n"
   ]
  },
  {
   "cell_type": "markdown",
   "id": "2cfd3247",
   "metadata": {},
   "source": [
    "## List Comprehensions\n",
    "While list comprehensions achieve similar results as broadcasting, they are generally slower because they rely on Python loops instead of NumPy's optimized operations."
   ]
  },
  {
   "cell_type": "code",
   "execution_count": null,
   "id": "8a8fecee",
   "metadata": {},
   "outputs": [],
   "source": [
    "# List Comprehensions\n",
    "g = np.array([1, 2, 3, 4, 5, 6])\n",
    "print(\"Array g:\", g)    # Print the array\n",
    "print(\"Array g + 1:\", [i + 1 for i in g])    # Add 1 to each element of the array\n",
    "print(\"Array g - 1:\", [i - 1 for i in g])    # Subtract 1 from each element of the array\n",
    "print(\"Array g * 2:\", [i * 2 for i in g])    # Multiply each element of the array by 2\n",
    "print(\"Array g / 2:\", [i / 2 for i in g])    # Divide each element of the array by 2\n",
    "print(\"Array g ** 2:\", [i ** 2 for i in g])    # Square each element of the array\n",
    "print(\"Array g % 2:\", [i % 2 for i in g])    # Modulus 2 of each element of the array\n",
    "print(\"Array g // 2:\", [i // 2 for i in g])    # Floor division by 2 of each element of the array\n"
   ]
  },
  {
   "cell_type": "markdown",
   "id": "a8f4a517",
   "metadata": {},
   "source": [
    "## 2D Array Broadcasting and Vectorized Operations\n",
    "NumPy extends broadcasting to multi-dimensional arrays, enabling operations between arrays with compatible shapes."
   ]
  },
  {
   "cell_type": "code",
   "execution_count": null,
   "id": "a6734d5f",
   "metadata": {},
   "outputs": [],
   "source": [
    "h = np.array([\n",
    "    [1, 2, 3],\n",
    "    [4, 5, 6],\n",
    "    [7, 8, 9]\n",
    "])\n",
    "print(\"Array h:\", h)    # Print the array\n",
    "print(\"Array h + 1:\", h + 1)    # Add 1 to each element of the array\n",
    "print(\"Array h - 1:\", h - 1)    # Subtract 1 from each element of the array\n",
    "print(\"Array h * 2:\", h * 2)    # Multiply each element of the array by 2\n",
    "print(\"Array h / 2:\", h / 2)    # Divide each element of the array by 2\n",
    "print(\"Array h ** 2:\", h ** 2)    # Square each element of the array\n",
    "print(\"Array h % 2:\", h % 2)    # Modulus 2 of each element of the array\n",
    "print(\"Array h // 2:\", h // 2)    # Floor division by 2 of each element of the array\n",
    "print(\"Array h + h:\", h + h)    # Add each element of the array with corresponding element of the array\n",
    "print(\"Array h - h:\", h - h)    # Subtract each element of the array from corresponding element of the array\n",
    "print(\"Array h * h:\", h * h)    # Multiply each element of the array with corresponding element of the array\n",
    "print(\"Array h / h:\", h / h)    # Divide each element of the array by corresponding element of the array\n",
    "print(\"Array h ** h:\", h ** h)    # Power each element of the array by corresponding element of the array\n",
    "print(\"Array h % h:\", h % h)    # Modulus each element of the array by corresponding element of the array\n",
    "print(\"Array h // h:\", h // h)    # Floor division by each element of the array by corresponding element"
   ]
  },
  {
   "cell_type": "markdown",
   "id": "51fc64d2-5e34-43d6-a5c9-400da77e1460",
   "metadata": {},
   "source": [
    "## Boolean Arrays\n",
    "Boolean operations in NumPy allow for element-wise comparisons, filtering, and conditional selection of array elements."
   ]
  },
  {
   "cell_type": "code",
   "execution_count": null,
   "id": "c76b6f8a-2a1e-4fdf-9cd5-cf1d12286f11",
   "metadata": {},
   "outputs": [],
   "source": [
    "i = np.array([1, 2, 3, 4, 5, 6])\n",
    "print(\"Array i:\", i)    # Print the array\n",
    "print(\"Array i > 3:\", i > 3)    # Check if each element of the array is greater than 3\n",
    "print(\"Array i < 3:\", i < 3)    # Check if each element of the array is less than 3\n",
    "print(\"Array i == 3:\", i == 3)    # Check if each element of the array is equal to 3\n",
    "print(\"Array i != 3:\", i != 3)    # Check if each element of the array is not equal to 3\n",
    "print(\"Array i >= 3:\", i >= 3)    # Check if each element of the array is greater than or equal to 3\n",
    "print(\"Array i <= 3:\", i <= 3)    # Check if each element of the array is less than or equal to 3\n",
    "print(\"Array i % 2 == 0:\", i % 2 == 0)    # Check if each element of the array is even\n",
    "print(\"Array i % 2 != 0:\", i % 2 != 0)    # Check if each element of the array is odd\n",
    "print(\"Array i[i % 2 == 0]:\", i[i % 2 == 0])    # Get the elements of the array that are even\n",
    "print(\"Array i[i % 2 != 0]:\", i[i % 2 != 0])    # Get the elements of the array that are odd\n",
    "print(\"Array np.arange(7):\", np.arange(7))    # Print the array\n",
    "print(\"Array np.arange(1, 7):\", np.arange(1, 7))    # Print the array\n",
    "j = np.arange(5)\n",
    "print(\"Array j+20:\", j+20)"
   ]
  },
  {
   "cell_type": "markdown",
   "id": "01297a4c-fab9-4e4a-afa3-2cc2c2ecd373",
   "metadata": {},
   "source": [
    "## Linear Algebra\n",
    "NumPy supports matrix operations, including multiplication, transposition, and finding determinants."
   ]
  },
  {
   "cell_type": "code",
   "execution_count": 4,
   "id": "449f2cb2-1ba4-469c-a434-eca40f66dcf4",
   "metadata": {},
   "outputs": [
    {
     "name": "stdout",
     "output_type": "stream",
     "text": [
      "\n",
      "---------- Linear Algebra ----------\n",
      "Array k: [[1 2]\n",
      " [3 4]]\n",
      "Array l: [[5 6]\n",
      " [7 8]]\n",
      "Matrix multiplication of k and l: [[19 22]\n",
      " [43 50]]\n",
      "Matrix multiplication of k and l: [[19 22]\n",
      " [43 50]]\n",
      "Matrix multiplication of k and l: [[19 22]\n",
      " [43 50]]\n",
      "Matrix transpose of k: [[1 3]\n",
      " [2 4]]\n",
      "Matrix determinant of k: -2.0000000000000004\n",
      "Matrix inverse of k: [[-2.   1. ]\n",
      " [ 1.5 -0.5]]\n"
     ]
    }
   ],
   "source": [
    "print(\"\\n---------- Linear Algebra ----------\")\n",
    "k = np.array([\n",
    "    [1, 2],\n",
    "    [3, 4]\n",
    "])\n",
    "l = np.array([\n",
    "    [5, 6],\n",
    "    [7, 8]\n",
    "])\n",
    "print(\"Array k:\", k)    # Print the array\n",
    "print(\"Array l:\", l)    # Print the array\n",
    "print(\"Matrix multiplication of k and l:\", k.dot(l))    # Matrix multiplication of k and l\n",
    "print(\"Matrix multiplication of k and l:\", np.dot(k, l))    # Matrix multiplication of k and l\n",
    "print(\"Matrix multiplication of k and l:\", k @ l)    # Matrix multiplication of k and l\n",
    "print(\"Matrix transpose of k:\", k.T)    # Matrix transpose of k\n",
    "print(\"Matrix determinant of k:\", np.linalg.det(k))    # Matrix determinant of k\n",
    "print(\"Matrix inverse of k:\", np.linalg.inv(k))    # Matrix inverse of k"
   ]
  },
  {
   "cell_type": "markdown",
   "id": "998fe0fd-901f-4472-8bc8-af91fa38d77f",
   "metadata": {},
   "source": [
    "## Useful NumPy Functions\n",
    "Explore essential NumPy functions like creating arrays and reshaping."
   ]
  },
  {
   "cell_type": "code",
   "execution_count": null,
   "id": "18215e4d-cf66-4476-8656-800c239fd8c4",
   "metadata": {},
   "outputs": [],
   "source": [
    "print(\"\\n---------- Useful NumPy functions ----------\")\n",
    "print(\"Array of zeros:\", np.zeros(5))    # Create an array of zeros\n",
    "print(\"Array of ones:\", np.ones(5))    # Create an array of ones\n",
    "print(\"Array of fives:\", np.ones(5) * 5)    # Create an array of fives\n",
    "print(\"Array of tens:\", np.ones(5) * 10)    # Create an array of tens\n",
    "print(\"Identity matrix:\", np.eye(5))    # Create an identity matrix\n",
    "print(\"Random numbers:\", np.random.random(5))    # Create an array of random numbers\n",
    "print(\"Random integers:\", np.random.randint(5, 10, 5))    # Create an array of random integers between 5 and 10 (exclusive)\n",
    "print(\"Array of 10 numbers between 1 and 5:\", np.linspace(1, 5, 10))    # Create an array of 10 numbers between 1 and 5\n",
    "print(\"Array of 10 numbers between 1 and 5:\", np.arange(1, 5.1, 0.4))    # Create an array of 10 numbers between 1 and 5\n",
    "print(\"Reshape array:\", np.arange(1, 10).reshape(3, 3))    # Reshape an array\n",
    "print(\"Flatten array:\", np.arange(1, 10).reshape(3, 3).flatten())    # Flatten an array\n",
    "print(\"Concatenate arrays:\", np.concatenate([np.arange(1, 4), np.arange(4, 7)]))    # Concatenate arrays\n",
    "print(\"Stack arrays vertically:\", np.vstack([np.arange(1, 4), np.arange(4, 7)]))    # Stack arrays vertically\n",
    "print(\"Stack arrays horizontally:\", np.hstack([np.arange(1, 4), np.arange(4, 7)]))    # Stack arrays horizontally"
   ]
  }
 ],
 "metadata": {
  "kernelspec": {
   "display_name": "Python 3 (ipykernel)",
   "language": "python",
   "name": "python3"
  },
  "language_info": {
   "codemirror_mode": {
    "name": "ipython",
    "version": 3
   },
   "file_extension": ".py",
   "mimetype": "text/x-python",
   "name": "python",
   "nbconvert_exporter": "python",
   "pygments_lexer": "ipython3",
   "version": "3.12.5"
  }
 },
 "nbformat": 4,
 "nbformat_minor": 5
}
